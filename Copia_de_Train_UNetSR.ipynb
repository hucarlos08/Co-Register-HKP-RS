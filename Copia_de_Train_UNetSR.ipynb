{
  "nbformat": 4,
  "nbformat_minor": 0,
  "metadata": {
    "colab": {
      "provenance": [],
      "machine_shape": "hm",
      "gpuType": "A100",
      "authorship_tag": "ABX9TyPLdOepqd6+69q2a5LHLdDc",
      "include_colab_link": true
    },
    "kernelspec": {
      "name": "python3",
      "display_name": "Python 3"
    },
    "language_info": {
      "name": "python"
    },
    "accelerator": "GPU"
  },
  "cells": [
    {
      "cell_type": "markdown",
      "metadata": {
        "id": "view-in-github",
        "colab_type": "text"
      },
      "source": [
        "<a href=\"https://colab.research.google.com/github/hucarlos08/Co-Register-HKP-RS/blob/main/Copia_de_Train_UNetSR.ipynb\" target=\"_parent\"><img src=\"https://colab.research.google.com/assets/colab-badge.svg\" alt=\"Open In Colab\"/></a>"
      ]
    },
    {
      "cell_type": "markdown",
      "source": [
        "# Colab configuration"
      ],
      "metadata": {
        "id": "Dtr6oz84PnxV"
      }
    },
    {
      "cell_type": "code",
      "execution_count": 1,
      "metadata": {
        "id": "nEH1NGTLPMrW",
        "colab": {
          "base_uri": "https://localhost:8080/"
        },
        "outputId": "1af66964-6e1d-4358-c3b9-d09baa25661c"
      },
      "outputs": [
        {
          "output_type": "stream",
          "name": "stdout",
          "text": [
            "Drive already mounted at /content/drive; to attempt to forcibly remount, call drive.mount(\"/content/drive\", force_remount=True).\n"
          ]
        }
      ],
      "source": [
        "from google.colab import drive\n",
        "drive.mount('/content/drive')"
      ]
    },
    {
      "cell_type": "code",
      "source": [
        "!pwd\n",
        "%cd '/content/drive/MyDrive/GitHub/SR3-JAX/'"
      ],
      "metadata": {
        "colab": {
          "base_uri": "https://localhost:8080/"
        },
        "id": "CEyo-EWnPsJk",
        "outputId": "79a1d75f-37ee-4433-f503-307032681006"
      },
      "execution_count": 2,
      "outputs": [
        {
          "output_type": "stream",
          "name": "stdout",
          "text": [
            "/content\n",
            "/content/drive/MyDrive/GitHub/SR3-JAX\n"
          ]
        }
      ]
    },
    {
      "cell_type": "markdown",
      "source": [
        "## Train step"
      ],
      "metadata": {
        "id": "vAZW4M-dP4Lp"
      }
    },
    {
      "cell_type": "code",
      "source": [
        "import jax\n",
        "import jax.numpy as jnp\n",
        "import jax.nn as nn\n",
        "\n",
        "from flax.training import train_state\n",
        "import optax\n",
        "\n",
        "from typing import Any\n",
        "\n",
        "class TrainState(train_state.TrainState):\n",
        "  batch_stats: Any\n",
        "\n",
        "\n",
        "def train_step(state: TrainState, batch, rng):\n",
        "\n",
        "  lr_images, hr_images = batch\n",
        "\n",
        "  \"\"\"Train for a single step.\"\"\"\n",
        "  def loss_fn(params):\n",
        "\n",
        "    outputs, updates = state.apply_fn({'params': params, 'batch_stats': state.batch_stats}, inputs=lr_images, train=True,\n",
        "                                      mutable=['batch_stats'], rngs={'dropout': rng})\n",
        "\n",
        "    # Compute the pixel-wise mean squared error (MSE) loss\n",
        "    loss = jnp.mean(jnp.abs(outputs - hr_images))\n",
        "\n",
        "    return loss, (outputs, updates)\n",
        "\n",
        "  grad_fn = jax.value_and_grad(loss_fn, has_aux=True)\n",
        "\n",
        "  (loss, (outputs, updates)), grads = grad_fn(state.params)\n",
        "\n",
        "  state = state.apply_gradients(grads=grads)\n",
        "  state = state.replace(batch_stats=updates['batch_stats'])\n",
        "\n",
        "  mse = jnp.mean((outputs - hr_images) ** 2)\n",
        "\n",
        "   # PSNR\n",
        "  psnr = 20.0 * jnp.log10(1 / jnp.sqrt(mse))\n",
        "\n",
        "  metrics = {\n",
        "    'L1-loss': loss,\n",
        "    'MSE': mse,\n",
        "    'PSNR': psnr\n",
        "  }\n",
        "\n",
        "  rng, _ = jax.random.split(rng)\n",
        "\n",
        "  return state, metrics, rng"
      ],
      "metadata": {
        "id": "Darhj-iEQTYT"
      },
      "execution_count": 3,
      "outputs": []
    },
    {
      "cell_type": "markdown",
      "source": [
        "## Evaluation step"
      ],
      "metadata": {
        "id": "_Kph6bWZWKQH"
      }
    },
    {
      "cell_type": "code",
      "source": [
        "import jax.numpy as jnp\n",
        "\n",
        "def eval_step(state: TrainState, batch):\n",
        "  low_res_images, high_res_images = batch\n",
        "\n",
        "  \"\"\"Evaluate for a single step.\"\"\"\n",
        "  def loss_fn(params):\n",
        "    outputs = state.apply_fn({'params': params, 'batch_stats': state.batch_stats}, inputs=low_res_images, train=False)\n",
        "\n",
        "    loss = jnp.mean(jnp.abs(outputs - high_res_images))\n",
        "\n",
        "    return loss, outputs\n",
        "\n",
        "    loss, outputs = loss_fn(state.params)\n",
        "\n",
        "    mse = jnp.mean((outputs - high_res_images) ** 2)\n",
        "\n",
        "    # PSNR\n",
        "    psnr = 20.0 * jnp.log10(1 / jnp.sqrt(mse))\n",
        "\n",
        "    metrics = {\n",
        "    'L1-loss': loss,\n",
        "    'MSE': mse,\n",
        "    'PSNR': psnr\n",
        "    }\n",
        "\n",
        "    return state, metrics\n",
        "\n"
      ],
      "metadata": {
        "id": "IHfnYZ4oWMpA"
      },
      "execution_count": 4,
      "outputs": []
    },
    {
      "cell_type": "markdown",
      "source": [
        "## Training loop"
      ],
      "metadata": {
        "id": "VbqpFGEXbWvV"
      }
    },
    {
      "cell_type": "code",
      "source": [
        "import numpy as np\n",
        "\n",
        "from cloudsr.utils import ProgressBar\n",
        "\n",
        "def train(state, dataloader, epochs, bath_size, losses, avg_losses, eval_losses, eval_accuracies):\n",
        "\n",
        "  p = ProgressBar(int(6000/bath_size))\n",
        "\n",
        "  rng = jax.random.PRNGKey(0)\n",
        "\n",
        "  mse_list = []\n",
        "  psnr_list = []\n",
        "\n",
        "  for epoch in range(epochs):\n",
        "\n",
        "    # this is where the learning rate schedule state is stored in the optimizer state\n",
        "    #optimizer_step = state.optimizer_state[1].count\n",
        "\n",
        "    # run an epoch of training\n",
        "    for step, batch in enumerate(dataloader()):\n",
        "\n",
        "      p.step(reset=(step==0))\n",
        "\n",
        "      state, metrics_train, rng = train_step(state, batch, rng)\n",
        "\n",
        "      l1_loss = metrics_train['L1-loss']\n",
        "      mse     = metrics_train['MSE']\n",
        "      psnr    = metrics_train['PSNR']\n",
        "\n",
        "      ## Add to a list\n",
        "      losses.append(l1_loss)\n",
        "      mse_list.append(mse)\n",
        "      psnr_list.append(psnr)\n",
        "\n",
        "    avg_loss = np.mean(losses[-step:])\n",
        "    avg_mse  = np.mean(mse_list[-step:])\n",
        "    avg_psnr = np.mean(psnr_list[-step:])\n",
        "\n",
        "    # All the estimations\n",
        "    avg_losses.append(avg_loss)\n",
        "\n",
        "    # run one epoch of evals test images in a single batch)\n",
        "\n",
        "    print(\"Epoch\", epoch, \"train loss:\", avg_loss, \"MSE\", avg_mse, \"PSNR:\", avg_psnr)\n",
        "\n",
        "\n",
        "  return state"
      ],
      "metadata": {
        "id": "9VZXEpfdqxlb"
      },
      "execution_count": 5,
      "outputs": []
    },
    {
      "cell_type": "markdown",
      "source": [
        "### Training configuration"
      ],
      "metadata": {
        "id": "CvojZupJP5l0"
      }
    },
    {
      "cell_type": "code",
      "source": [
        "import flax\n",
        "import optax\n",
        "\n",
        "# Training hyperparams\n",
        "EPOCHS = 15\n",
        "BATCH_SIZE = 32\n",
        "FILTERS = 16\n",
        "LEARNING_RATE = 0.01\n",
        "LEARNING_RATE_EXP_DECAY = 0.6\n",
        "EVAL_INTERVAL = 3\n",
        "HDF5_FILE = '/content/drive/MyDrive/Data/Durlar/Medium/Durlar_lr_hi_resolution_dataset_M.h5'"
      ],
      "metadata": {
        "id": "q1JGV0e-P4a8"
      },
      "execution_count": 6,
      "outputs": []
    },
    {
      "cell_type": "markdown",
      "source": [
        "## Dataset"
      ],
      "metadata": {
        "id": "DclztlC421xk"
      }
    },
    {
      "cell_type": "code",
      "source": [
        "from cloudsr.lidar_data_io import load_lidar_dataset_from_hdf5\n",
        "\n",
        "# Create the JAX dataloader\n",
        "dataloader = load_lidar_dataset_from_hdf5(HDF5_FILE, batch_size=BATCH_SIZE, shuffle=True)"
      ],
      "metadata": {
        "id": "PFBALLGl24ZC"
      },
      "execution_count": 7,
      "outputs": []
    },
    {
      "cell_type": "markdown",
      "source": [
        "# Define the model"
      ],
      "metadata": {
        "id": "UmgaGDCc28Mc"
      }
    },
    {
      "cell_type": "code",
      "source": [
        "from cloudsr.models.UnetSR import UNetSRJAX\n",
        "\n",
        "# Create the JAX dataloader\n",
        "dataloader = load_lidar_dataset_from_hdf5(HDF5_FILE, batch_size=BATCH_SIZE, shuffle=True)\n",
        "\n",
        "\n",
        "# Initialize the model\n",
        "\n",
        "# Generate a random PRNG key\n",
        "rng = jax.random.PRNGKey(0)\n",
        "\n",
        "# Create the U-Net model instance\n",
        "model = UNetSRJAX(filters=FILTERS, dropout_rate=0.25, act_func=nn.relu, kernel_init=nn.initializers.he_normal())\n",
        "\n",
        "# Initialize the model\n",
        "rng, init_rng = jax.random.split(rng)\n",
        "dummy_input   = jnp.ones((1, 64, 1024, 1), dtype=jnp.float32)\n",
        "variables     = model.init({'params': init_rng, 'batch_stats': init_rng}, dummy_input, train=False)\n",
        "\n",
        "\n",
        "# View the model parameters\n",
        "params = variables['params']\n",
        "batch_stats = variables['batch_stats']\n",
        "\n",
        "# Create the optimizer\n",
        "\n",
        "# Learning Rate schedule for JAX\n",
        "jlr_decay = optax.exponential_decay(LEARNING_RATE, transition_steps=BATCH_SIZE, decay_rate=LEARNING_RATE_EXP_DECAY, staircase=True)\n",
        "\n",
        "state = TrainState.create(\n",
        "    apply_fn=model.apply,\n",
        "    params=params,\n",
        "    batch_stats=batch_stats,\n",
        "    tx=optax.adam(learning_rate=jlr_decay),\n",
        ")"
      ],
      "metadata": {
        "id": "h37dGPAibbMT"
      },
      "execution_count": 8,
      "outputs": []
    },
    {
      "cell_type": "code",
      "source": [
        "losses=[]\n",
        "avg_losses=[]\n",
        "eval_losses=[]\n",
        "eval_accuracies=[]\n",
        "\n",
        "state = train(state, dataloader, EPOCHS, BATCH_SIZE, losses, avg_losses, eval_losses, eval_accuracies);"
      ],
      "metadata": {
        "id": "3MQ4xPktz8gi",
        "colab": {
          "base_uri": "https://localhost:8080/",
          "height": 925
        },
        "outputId": "65118ab2-cfb6-486c-d5c3-051e782a3b17"
      },
      "execution_count": 9,
      "outputs": [
        {
          "output_type": "stream",
          "name": "stdout",
          "text": [
            "\n",
            "0%                                                                                              100%\n",
            "=================================================================================================Epoch 0 train loss: 0.02442268 MSE 0.005196241 PSNR: 26.63995\n",
            "\n",
            "0%                                                                                              100%\n",
            "=================================================================================================Epoch 1 train loss: 0.016589005 MSE 0.0015440679 PSNR: 28.13897\n",
            "\n",
            "0%                                                                                              100%\n",
            "=================================================================================================Epoch 2 train loss: 0.016227448 MSE 0.0015249507 PSNR: 28.190268\n",
            "\n",
            "0%                                                                                              100%\n",
            "=================================================================================================Epoch 3 train loss: 0.016203828 MSE 0.0015198065 PSNR: 28.205881\n",
            "\n",
            "0%                                                                                              100%\n",
            "=================================================================================================Epoch 4 train loss: 0.016200589 MSE 0.0015196267 PSNR: 28.206406\n",
            "\n",
            "0%                                                                                              100%\n",
            "=================================================================================================Epoch 5 train loss: 0.016198574 MSE 0.0015196861 PSNR: 28.2062\n",
            "\n",
            "0%                                                                                              100%\n",
            "=================================================================================================Epoch 6 train loss: 0.016199773 MSE 0.0015197328 PSNR: 28.206099\n",
            "\n",
            "0%                                                                                              100%\n",
            "=================================================================================================Epoch 7 train loss: 0.016204918 MSE 0.0015199058 PSNR: 28.20563\n",
            "\n",
            "0%                                                                                              100%\n",
            "=================================================================================================Epoch 8 train loss: 0.016201759 MSE 0.001519734 PSNR: 28.206102\n",
            "\n",
            "0%                                                                                              100%\n",
            "============================="
          ]
        },
        {
          "output_type": "error",
          "ename": "KeyboardInterrupt",
          "evalue": "ignored",
          "traceback": [
            "\u001b[0;31m---------------------------------------------------------------------------\u001b[0m",
            "\u001b[0;31mKeyboardInterrupt\u001b[0m                         Traceback (most recent call last)",
            "\u001b[0;32m<ipython-input-9-045befee2833>\u001b[0m in \u001b[0;36m<cell line: 6>\u001b[0;34m()\u001b[0m\n\u001b[1;32m      4\u001b[0m \u001b[0meval_accuracies\u001b[0m\u001b[0;34m=\u001b[0m\u001b[0;34m[\u001b[0m\u001b[0;34m]\u001b[0m\u001b[0;34m\u001b[0m\u001b[0;34m\u001b[0m\u001b[0m\n\u001b[1;32m      5\u001b[0m \u001b[0;34m\u001b[0m\u001b[0m\n\u001b[0;32m----> 6\u001b[0;31m \u001b[0mstate\u001b[0m \u001b[0;34m=\u001b[0m \u001b[0mtrain\u001b[0m\u001b[0;34m(\u001b[0m\u001b[0mstate\u001b[0m\u001b[0;34m,\u001b[0m \u001b[0mdataloader\u001b[0m\u001b[0;34m,\u001b[0m \u001b[0mEPOCHS\u001b[0m\u001b[0;34m,\u001b[0m \u001b[0mBATCH_SIZE\u001b[0m\u001b[0;34m,\u001b[0m \u001b[0mlosses\u001b[0m\u001b[0;34m,\u001b[0m \u001b[0mavg_losses\u001b[0m\u001b[0;34m,\u001b[0m \u001b[0meval_losses\u001b[0m\u001b[0;34m,\u001b[0m \u001b[0meval_accuracies\u001b[0m\u001b[0;34m)\u001b[0m\u001b[0;34m;\u001b[0m\u001b[0;34m\u001b[0m\u001b[0;34m\u001b[0m\u001b[0m\n\u001b[0m",
            "\u001b[0;32m<ipython-input-5-6b773ee7140b>\u001b[0m in \u001b[0;36mtrain\u001b[0;34m(state, dataloader, epochs, bath_size, losses, avg_losses, eval_losses, eval_accuracies)\u001b[0m\n\u001b[1;32m     22\u001b[0m       \u001b[0mp\u001b[0m\u001b[0;34m.\u001b[0m\u001b[0mstep\u001b[0m\u001b[0;34m(\u001b[0m\u001b[0mreset\u001b[0m\u001b[0;34m=\u001b[0m\u001b[0;34m(\u001b[0m\u001b[0mstep\u001b[0m\u001b[0;34m==\u001b[0m\u001b[0;36m0\u001b[0m\u001b[0;34m)\u001b[0m\u001b[0;34m)\u001b[0m\u001b[0;34m\u001b[0m\u001b[0;34m\u001b[0m\u001b[0m\n\u001b[1;32m     23\u001b[0m \u001b[0;34m\u001b[0m\u001b[0m\n\u001b[0;32m---> 24\u001b[0;31m       \u001b[0mstate\u001b[0m\u001b[0;34m,\u001b[0m \u001b[0mmetrics_train\u001b[0m\u001b[0;34m,\u001b[0m \u001b[0mrng\u001b[0m \u001b[0;34m=\u001b[0m \u001b[0mtrain_step\u001b[0m\u001b[0;34m(\u001b[0m\u001b[0mstate\u001b[0m\u001b[0;34m,\u001b[0m \u001b[0mbatch\u001b[0m\u001b[0;34m,\u001b[0m \u001b[0mrng\u001b[0m\u001b[0;34m)\u001b[0m\u001b[0;34m\u001b[0m\u001b[0;34m\u001b[0m\u001b[0m\n\u001b[0m\u001b[1;32m     25\u001b[0m \u001b[0;34m\u001b[0m\u001b[0m\n\u001b[1;32m     26\u001b[0m       \u001b[0ml1_loss\u001b[0m \u001b[0;34m=\u001b[0m \u001b[0mmetrics_train\u001b[0m\u001b[0;34m[\u001b[0m\u001b[0;34m'L1-loss'\u001b[0m\u001b[0;34m]\u001b[0m\u001b[0;34m\u001b[0m\u001b[0;34m\u001b[0m\u001b[0m\n",
            "\u001b[0;32m<ipython-input-3-54e5a61e0eb8>\u001b[0m in \u001b[0;36mtrain_step\u001b[0;34m(state, batch, rng)\u001b[0m\n\u001b[1;32m     29\u001b[0m   \u001b[0mgrad_fn\u001b[0m \u001b[0;34m=\u001b[0m \u001b[0mjax\u001b[0m\u001b[0;34m.\u001b[0m\u001b[0mvalue_and_grad\u001b[0m\u001b[0;34m(\u001b[0m\u001b[0mloss_fn\u001b[0m\u001b[0;34m,\u001b[0m \u001b[0mhas_aux\u001b[0m\u001b[0;34m=\u001b[0m\u001b[0;32mTrue\u001b[0m\u001b[0;34m)\u001b[0m\u001b[0;34m\u001b[0m\u001b[0;34m\u001b[0m\u001b[0m\n\u001b[1;32m     30\u001b[0m \u001b[0;34m\u001b[0m\u001b[0m\n\u001b[0;32m---> 31\u001b[0;31m   \u001b[0;34m(\u001b[0m\u001b[0mloss\u001b[0m\u001b[0;34m,\u001b[0m \u001b[0;34m(\u001b[0m\u001b[0moutputs\u001b[0m\u001b[0;34m,\u001b[0m \u001b[0mupdates\u001b[0m\u001b[0;34m)\u001b[0m\u001b[0;34m)\u001b[0m\u001b[0;34m,\u001b[0m \u001b[0mgrads\u001b[0m \u001b[0;34m=\u001b[0m \u001b[0mgrad_fn\u001b[0m\u001b[0;34m(\u001b[0m\u001b[0mstate\u001b[0m\u001b[0;34m.\u001b[0m\u001b[0mparams\u001b[0m\u001b[0;34m)\u001b[0m\u001b[0;34m\u001b[0m\u001b[0;34m\u001b[0m\u001b[0m\n\u001b[0m\u001b[1;32m     32\u001b[0m \u001b[0;34m\u001b[0m\u001b[0m\n\u001b[1;32m     33\u001b[0m   \u001b[0mstate\u001b[0m \u001b[0;34m=\u001b[0m \u001b[0mstate\u001b[0m\u001b[0;34m.\u001b[0m\u001b[0mapply_gradients\u001b[0m\u001b[0;34m(\u001b[0m\u001b[0mgrads\u001b[0m\u001b[0;34m=\u001b[0m\u001b[0mgrads\u001b[0m\u001b[0;34m)\u001b[0m\u001b[0;34m\u001b[0m\u001b[0;34m\u001b[0m\u001b[0m\n",
            "    \u001b[0;31m[... skipping hidden 1 frame]\u001b[0m\n",
            "\u001b[0;32m/usr/local/lib/python3.10/dist-packages/jax/_src/api.py\u001b[0m in \u001b[0;36mvalue_and_grad_f\u001b[0;34m(*args, **kwargs)\u001b[0m\n\u001b[1;32m    719\u001b[0m                                           require_static_args_hashable=False)\n\u001b[1;32m    720\u001b[0m     \u001b[0;32mfor\u001b[0m \u001b[0mleaf\u001b[0m \u001b[0;32min\u001b[0m \u001b[0mtree_leaves\u001b[0m\u001b[0;34m(\u001b[0m\u001b[0mdyn_args\u001b[0m\u001b[0;34m)\u001b[0m\u001b[0;34m:\u001b[0m\u001b[0;34m\u001b[0m\u001b[0;34m\u001b[0m\u001b[0m\n\u001b[0;32m--> 721\u001b[0;31m       \u001b[0m_check_input_dtype_grad\u001b[0m\u001b[0;34m(\u001b[0m\u001b[0mholomorphic\u001b[0m\u001b[0;34m,\u001b[0m \u001b[0mallow_int\u001b[0m\u001b[0;34m,\u001b[0m \u001b[0mleaf\u001b[0m\u001b[0;34m)\u001b[0m\u001b[0;34m\u001b[0m\u001b[0;34m\u001b[0m\u001b[0m\n\u001b[0m\u001b[1;32m    722\u001b[0m     \u001b[0;32mif\u001b[0m \u001b[0;32mnot\u001b[0m \u001b[0mhas_aux\u001b[0m\u001b[0;34m:\u001b[0m\u001b[0;34m\u001b[0m\u001b[0;34m\u001b[0m\u001b[0m\n\u001b[1;32m    723\u001b[0m       \u001b[0mans\u001b[0m\u001b[0;34m,\u001b[0m \u001b[0mvjp_py\u001b[0m \u001b[0;34m=\u001b[0m \u001b[0m_vjp\u001b[0m\u001b[0;34m(\u001b[0m\u001b[0mf_partial\u001b[0m\u001b[0;34m,\u001b[0m \u001b[0;34m*\u001b[0m\u001b[0mdyn_args\u001b[0m\u001b[0;34m,\u001b[0m \u001b[0mreduce_axes\u001b[0m\u001b[0;34m=\u001b[0m\u001b[0mreduce_axes\u001b[0m\u001b[0;34m)\u001b[0m\u001b[0;34m\u001b[0m\u001b[0;34m\u001b[0m\u001b[0m\n",
            "\u001b[0;32m/usr/local/lib/python3.10/dist-packages/jax/_src/api.py\u001b[0m in \u001b[0;36m_check_input_dtype_revderiv\u001b[0;34m(name, holomorphic, allow_int, x)\u001b[0m\n\u001b[1;32m    757\u001b[0m                       f\"but got {aval.dtype.name}.\")\n\u001b[1;32m    758\u001b[0m   if (dtypes.is_opaque_dtype(aval.dtype) or\n\u001b[0;32m--> 759\u001b[0;31m       \u001b[0mdtypes\u001b[0m\u001b[0;34m.\u001b[0m\u001b[0missubdtype\u001b[0m\u001b[0;34m(\u001b[0m\u001b[0maval\u001b[0m\u001b[0;34m.\u001b[0m\u001b[0mdtype\u001b[0m\u001b[0;34m,\u001b[0m \u001b[0mnp\u001b[0m\u001b[0;34m.\u001b[0m\u001b[0minteger\u001b[0m\u001b[0;34m)\u001b[0m \u001b[0;32mor\u001b[0m\u001b[0;34m\u001b[0m\u001b[0;34m\u001b[0m\u001b[0m\n\u001b[0m\u001b[1;32m    760\u001b[0m       dtypes.issubdtype(aval.dtype, np.bool_)):\n\u001b[1;32m    761\u001b[0m     \u001b[0;32mif\u001b[0m \u001b[0;32mnot\u001b[0m \u001b[0mallow_int\u001b[0m\u001b[0;34m:\u001b[0m\u001b[0;34m\u001b[0m\u001b[0;34m\u001b[0m\u001b[0m\n",
            "\u001b[0;32m/usr/local/lib/python3.10/dist-packages/jax/_src/dtypes.py\u001b[0m in \u001b[0;36missubdtype\u001b[0;34m(a, b)\u001b[0m\n\u001b[1;32m    282\u001b[0m   \u001b[0mb\u001b[0m \u001b[0;34m=\u001b[0m \u001b[0mb\u001b[0m \u001b[0;32mif\u001b[0m \u001b[0m_is_typeclass\u001b[0m\u001b[0;34m(\u001b[0m\u001b[0mb\u001b[0m\u001b[0;34m)\u001b[0m \u001b[0;32melse\u001b[0m \u001b[0mnp\u001b[0m\u001b[0;34m.\u001b[0m\u001b[0mdtype\u001b[0m\u001b[0;34m(\u001b[0m\u001b[0mb\u001b[0m\u001b[0;34m)\u001b[0m\u001b[0;34m\u001b[0m\u001b[0;34m\u001b[0m\u001b[0m\n\u001b[1;32m    283\u001b[0m   \u001b[0;32mif\u001b[0m \u001b[0misinstance\u001b[0m\u001b[0;34m(\u001b[0m\u001b[0ma\u001b[0m\u001b[0;34m,\u001b[0m \u001b[0mnp\u001b[0m\u001b[0;34m.\u001b[0m\u001b[0mdtype\u001b[0m\u001b[0;34m)\u001b[0m\u001b[0;34m:\u001b[0m\u001b[0;34m\u001b[0m\u001b[0;34m\u001b[0m\u001b[0m\n\u001b[0;32m--> 284\u001b[0;31m     \u001b[0;32mif\u001b[0m \u001b[0ma\u001b[0m \u001b[0;32min\u001b[0m \u001b[0m_custom_float_dtypes\u001b[0m\u001b[0;34m:\u001b[0m\u001b[0;34m\u001b[0m\u001b[0;34m\u001b[0m\u001b[0m\n\u001b[0m\u001b[1;32m    285\u001b[0m       \u001b[0;31m# Avoid implicitly casting list elements below to a dtype.\u001b[0m\u001b[0;34m\u001b[0m\u001b[0;34m\u001b[0m\u001b[0m\n\u001b[1;32m    286\u001b[0m       \u001b[0;32mif\u001b[0m \u001b[0misinstance\u001b[0m\u001b[0;34m(\u001b[0m\u001b[0mb\u001b[0m\u001b[0;34m,\u001b[0m \u001b[0mnp\u001b[0m\u001b[0;34m.\u001b[0m\u001b[0mdtype\u001b[0m\u001b[0;34m)\u001b[0m\u001b[0;34m:\u001b[0m\u001b[0;34m\u001b[0m\u001b[0;34m\u001b[0m\u001b[0m\n",
            "\u001b[0;31mKeyboardInterrupt\u001b[0m: "
          ]
        }
      ]
    }
  ]
}